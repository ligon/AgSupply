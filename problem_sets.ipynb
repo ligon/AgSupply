{
 "cells": [
  {
   "cell_type": "markdown",
   "metadata": {},
   "source": [
    "1.  Suppose a farm-household is managed like a business. It controls $\\bar\n",
    "            N>0$ pounds of nitrogen fertilizer.  It produces produces maize with $N$ pounds\n",
    "    of nitrogen fertilizer, with a Cobb-Douglas production function with output \n",
    "    \n",
    "    \\begin{equation}\n",
    "    \\label{eq:cd0}\n",
    "       Y = A(P,K)N^\\alpha e^\\epsilon,\n",
    "    \\end{equation}\n",
    "    \n",
    "    where $A$ is a productivity function that depends on the amount\n",
    "    of phosphorus and potassium available on the field (for now take\n",
    "    this to be exogenous). The household can also sell their nitrogen\n",
    "    fertilizer to others at a price of $w$ dollars per pound.\n",
    "    \n",
    "    1.  Express farm-level supply in terms of $(w,p,A)$.\n",
    "    \n",
    "    2.  A famous experiment \\citep{heady-etal55} involved varying\n",
    "        fertilizer levels on plots in Iowa and measuring the resulting\n",
    "        output in an incomplete block design; you&rsquo;ll find the data\n",
    "        from the experiment in the file `heady-etal55.csv`.  Use these data to estimate\n",
    "        a set of $A(P,K)$ (several discrete values) and output\n",
    "        elasticities $\\alpha$ in \\Eq{cd0}.  Report your results.\n",
    "\n"
   ]
  },
  {
   "cell_type": "code",
   "execution_count": 1,
   "metadata": {
    "collapsed": true
   },
   "outputs": [],
   "source": [
    "import pandas as pd\n",
    "\n",
    "df=pd.read_csv('Data/heady-etal55.csv')"
   ]
  },
  {
   "cell_type": "markdown",
   "metadata": {},
   "source": [
    "1.  Show that an implication of taking the production function to\n",
    "    be globally Cobb-Douglas (so that $A(P,K)$ is also\n",
    "    Cobb-Douglas) is that $\\alpha$ in \\Eq{cd0} will be constant.\n",
    "    Estimate the global Cobb-Douglas production function with\n",
    "    elasticities $(\\alpha_P,\\alpha_K,\\alpha_N)$, devise a test of\n",
    "    the hypothesis that the production function is globally\n",
    "    Cobb-Douglas, and report your results from estimation and this\n",
    "    test using these experimental data.\n",
    "\n",
    "2.  What are the properties of the residuals you&rsquo;ve estimated in\n",
    "    the previous question?  In the spirit of  Just-Pope,\n",
    "    construct a test to determine if\n",
    "    $\\E(e^\\epsilon|N,P,K)=\\E(e^\\epsilon)$, and report your results\n",
    "    using the Heady et al data.   What does a rejection imply\n",
    "    about the supply function  you constructed above?\n",
    "\n",
    "3.  Sometimes it is claimed that fertilizer is &ldquo;risk increasing&rdquo;\n",
    "    in maize production.  Evaluate this claim in light of your\n",
    "    results above.\n",
    "4.  A different sort of experiment on the relationship between\n",
    "    fertilizer and maize yields was conducted by \\cite{duflo-etal08},\n",
    "    with data available from [http://hdl.handle.net/1902.1/19699](http://hdl.handle.net/1902.1/19699)\n",
    "    \\citep{duflo-etal08:data}, described in \\cite{duflo-etal08}.\n",
    "    Here the experiment involved not fully experimental plots, but\n",
    "    instead a design in which about 300 particular farm-households\n",
    "    were chosen to participate.  Each farmer operated two or more\n",
    "    plots, each with a (different) fixed amount of nitrogen\n",
    "    fertilizer added (the formulation was different from that used in the\n",
    "    Heady et al experiment, so quantities will not be directly\n",
    "    comparable).  Other inputs were not controlled, so that farmers\n",
    "    were free to vary inputs across plots.\n",
    "    1.  Each farmer operated a &ldquo;control&rdquo; plot without any experimentally-determined\n",
    "        fertilizer additions, and many operated a second plot with a\n",
    "        &ldquo;half teaspoon&rdquo; of fertilizer as a treatment.  Estimates of\n",
    "        dry yields per square meter are given in the dataset as\n",
    "        `dryweight_c_m2` and `dryweight_t12_m2` respectively.\n",
    "        Estimate the difference, averaged over farmers; describe and\n",
    "        implement a way to test the null hypothesis that this average\n",
    "        difference is equal to zero.\n",
    "\n"
   ]
  },
  {
   "cell_type": "code",
   "execution_count": 1,
   "metadata": {},
   "outputs": [
    {
     "name": "stdout",
     "output_type": "stream",
     "text": [
      "dryweight_c_m2      0.052768\n",
      "dryweight_t12_m2    0.079650\n",
      "dtype: float32\n"
     ]
    }
   ],
   "source": [
    "import pandas as pd\n",
    "import pylab as pl\n",
    "\n",
    "df=pd.read_stata('Data/Duflo-etal08/profit_data.dta')\n",
    "print(df[['dryweight_c_m2','dryweight_t12_m2']].mean())\n",
    "\n",
    "pl.clf()\n",
    "df['dryweight_t12_m2'].hist(bins=20)\n",
    "df['dryweight_c_m2'].hist(bins=20)\n",
    "pl.savefig('duflo-etal08_t12_vs_c.png')"
   ]
  },
  {
   "cell_type": "markdown",
   "metadata": {},
   "source": [
    "1.  Suppose that $N_0$ is the amount of nitrogen initially\n",
    "    available on all plots (including controls), and $N_+$ any\n",
    "    additional fertilizer added as an experimental treatment.  If\n",
    "    the production function for each plot was Cobb-Douglas, under\n",
    "    what conditions would the average difference you computed\n",
    "    above provide an estimate of the effects of fertilizer on\n",
    "    yield?\n",
    "\n",
    "2.  Use these data to estimate the parameters of the\n",
    "    production function $Y = A(N_0+N_+)^\\alpha e^\\epsilon$ (with\n",
    "    $A$ interpreted as a productivity parameter that doesn&rsquo;t vary\n",
    "    across plots or farmers).  Contrast your methods and results\n",
    "    with the previous question.\n",
    "\n",
    "3.  Now suppose that not only nitrogen but also phosphorus and\n",
    "    potassium are taken as fixed factors by the farmer (the latter\n",
    "    two because of natural variation in soil fertility across\n",
    "    plots).  In a Cobb-Douglas specification this now gives a\n",
    "    collection of fixed factors $A(P,K)(N_0+N_+)^\\alpha$ (other variable\n",
    "    inputs such as labor are not observed).  Consider a farmer\n",
    "    operating one plot with no nitrogen added, and a second plot\n",
    "    under the &ldquo;1/2 teaspoon&rdquo; treatment.  How will the farmer\n",
    "    allocate labor across the  two plots?  Does allowing for the\n",
    "    possibility of variable inputs affect your interpretation of\n",
    "    the results you obtained above?\n",
    "4.  The previous questions leaned heavily on a Cobb-Douglas\n",
    "    specification.  Now suppose that the production function is\n",
    "    actually a sort of Cobb-Douglas/von Liebig mashup:\n",
    "    $y=A\\min\\{\\beta_LL,\\beta_NN,\\beta_PP,\\beta_KK\\}^{\\alpha}$, where\n",
    "    $L$ is labor input, and $(N,P,K)$ are as above.\n",
    "    1.  Consider the mean differences in  the experiments above\n",
    "        through the lens of the CDvLM production function: what\n",
    "        interpretation would you give to these results?\n",
    "    \n",
    "    2.  Mean differences aren&rsquo;t the  only useful statistic one can\n",
    "        construct from experimental data.  Another interesting\n",
    "        statistic in this case is the proportion of yields which  are\n",
    "        equal to  zero.  Consider these proportions for each  of the two datasets\n",
    "        discussed above; does this help in choosing between different\n",
    "        specifications of the production function?\n",
    "    \n",
    "    3.  If the CDvLM production function is the \\`correct&rsquo;\n",
    "        specification, then production in the Duflo et al experiment\n",
    "        will depend on the distribution of the factors $(L,N_0,P,K)$\n",
    "        across plots.  What  can you say about this unknown\n",
    "        distribution and about the parameters of the CDvLM production\n",
    "        function using the data from this experiment?\n",
    "\n"
   ]
  }
 ],
 "metadata": {
  "kernelspec": {
   "display_name": "Python 3",
   "language": "python",
   "name": "python3"
  },
  "language_info": {
   "codemirror_mode": {
    "name": "ipython",
    "version": 3
   },
   "file_extension": ".py",
   "mimetype": "text/x-python",
   "name": "python",
   "nbconvert_exporter": "python",
   "pygments_lexer": "ipython3",
   "version": "3.6.1"
  }
 },
 "nbformat": 4,
 "nbformat_minor": 1
}
